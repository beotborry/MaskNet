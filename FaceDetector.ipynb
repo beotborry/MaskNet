{
 "cells": [
  {
   "cell_type": "code",
   "execution_count": 1,
   "metadata": {
    "collapsed": true,
    "pycharm": {
     "name": "#%%\n"
    }
   },
   "outputs": [],
   "source": [
    "import cv2\n",
    "import numpy as np\n",
    "\n",
    "from tensorflow.keras.applications.mobilenet_v2 import preprocess_input\n",
    "from tensorflow.keras.preprocessing.image import img_to_array\n",
    "from tensorflow.keras.models import load_model"
   ]
  },
  {
   "cell_type": "code",
   "execution_count": 2,
   "outputs": [],
   "source": [
    "# Initialize Detector & load pre-trained weight\n",
    "prototxt_path = \"./caffe_dnn_module/deploy.prototxt.txt\"\n",
    "weights_path = \"./caffe_dnn_module/res10_300x300_ssd_iter_140000.caffemodel\"\n",
    "\n",
    "detector = cv2.dnn.readNet(prototxt_path, weights_path)\n",
    "\n",
    "# Load pre-trained CNN model\n",
    "CNN = load_model(\"./checkpoint/Mobilenet_2\")\n"
   ],
   "metadata": {
    "collapsed": false,
    "pycharm": {
     "name": "#%%\n"
    }
   }
  },
  {
   "cell_type": "code",
   "execution_count": 33,
   "outputs": [],
   "source": [
    "test_img = cv2.imread(\"./data/testdata/1.jpg\")\n"
   ],
   "metadata": {
    "collapsed": false,
    "pycharm": {
     "name": "#%%\n"
    }
   }
  },
  {
   "cell_type": "code",
   "execution_count": 34,
   "outputs": [
    {
     "name": "stdout",
     "output_type": "stream",
     "text": [
      "0.23369686\n"
     ]
    }
   ],
   "source": [
    "blob = cv2.dnn.blobFromImage(test_img, 1.0, (300, 300),\n",
    "                             (104.0, 177.0, 123.0))\n",
    "(h, w) = test_img.shape[:2]\n",
    "\n",
    "detector.setInput(blob)\n",
    "detections = detector.forward()\n",
    "print(max(detections[0,0,:,2]))"
   ],
   "metadata": {
    "collapsed": false,
    "pycharm": {
     "name": "#%%\n"
    }
   }
  },
  {
   "cell_type": "code",
   "execution_count": 35,
   "outputs": [],
   "source": [
    "threshold = 0.5\n",
    "for i in range(0, detections.shape[2]):\n",
    "    confidence = detections[0, 0, i, 2]\n",
    "\n",
    "    if confidence > threshold:\n",
    "        box = detections[0, 0, i, 3:7] * np.array([w, h, w, h])\n",
    "        (startX, startY, endX, endY) = box.astype(\"int\")\n",
    "        print(confidence, startX, startY, endX, endY)\n",
    "\n",
    "        text = \"{:2f}%\".format(confidence * 100)\n",
    "        y = startY - 10 if startY - 10 > 10 else startY + 10\n",
    "        cv2.rectangle(test_img, (startX, startY), (endX, endY), (0, 255, 0), 2)\n",
    "        cv2.putText(test_img, text, (startX, y),\n",
    "                    cv2.FONT_HERSHEY_SIMPLEX, 0.5, (0, 255, 0), 1)\n",
    "\n",
    "cv2.imshow(\"result\", test_img)\n",
    "cv2.waitKey(0)\n",
    "cv2.destroyAllWindows()\n",
    "\n"
   ],
   "metadata": {
    "collapsed": false,
    "pycharm": {
     "name": "#%%\n"
    }
   }
  }
 ],
 "metadata": {
  "kernelspec": {
   "display_name": "Python 3",
   "language": "python",
   "name": "python3"
  },
  "language_info": {
   "codemirror_mode": {
    "name": "ipython",
    "version": 2
   },
   "file_extension": ".py",
   "mimetype": "text/x-python",
   "name": "python",
   "nbconvert_exporter": "python",
   "pygments_lexer": "ipython2",
   "version": "2.7.6"
  }
 },
 "nbformat": 4,
 "nbformat_minor": 0
}