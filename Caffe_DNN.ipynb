{
 "cells": [
  {
   "cell_type": "code",
   "execution_count": 1,
   "metadata": {
    "collapsed": true,
    "pycharm": {
     "name": "#%%\n"
    }
   },
   "outputs": [],
   "source": [
    "import cv2\n",
    "import numpy as np\n",
    "\n",
    "from tensorflow.keras.applications.mobilenet_v2 import preprocess_input\n",
    "from tensorflow.keras.preprocessing.image import img_to_array\n",
    "from tensorflow.keras.models import load_model"
   ]
  },
  {
   "cell_type": "code",
   "execution_count": 2,
   "outputs": [
    {
     "name": "stdout",
     "output_type": "stream",
     "text": [
      "WARNING:tensorflow:Inconsistent references when loading the checkpoint into this object graph. Either the Trackable object references in the Python program have changed in an incompatible way, or the checkpoint was generated in an incompatible program.\n",
      "\n",
      "Two checkpoint references resolved to different objects (<tensorflow.python.keras.layers.normalization_v2.BatchNormalization object at 0x000002EE74A47388> and <tensorflow.python.keras.layers.convolutional.Conv2D object at 0x000002EE749F9788>).\n",
      "WARNING:tensorflow:Inconsistent references when loading the checkpoint into this object graph. Either the Trackable object references in the Python program have changed in an incompatible way, or the checkpoint was generated in an incompatible program.\n",
      "\n",
      "Two checkpoint references resolved to different objects (<tensorflow.python.keras.layers.convolutional.Conv2D object at 0x000002EE749F9788> and <tensorflow.python.keras.layers.convolutional.Conv2D object at 0x000002EE749D4648>).\n",
      "WARNING:tensorflow:Inconsistent references when loading the checkpoint into this object graph. Either the Trackable object references in the Python program have changed in an incompatible way, or the checkpoint was generated in an incompatible program.\n",
      "\n",
      "Two checkpoint references resolved to different objects (<tensorflow.python.keras.layers.convolutional.Conv2D object at 0x000002EE749D4648> and <tensorflow.python.keras.layers.pooling.MaxPooling2D object at 0x000002EE74817248>).\n",
      "WARNING:tensorflow:Inconsistent references when loading the checkpoint into this object graph. Either the Trackable object references in the Python program have changed in an incompatible way, or the checkpoint was generated in an incompatible program.\n",
      "\n",
      "Two checkpoint references resolved to different objects (<tensorflow.python.keras.layers.convolutional.Conv2D object at 0x000002EE74820088> and <tensorflow.python.keras.layers.convolutional.Conv2D object at 0x000002EE7481D348>).\n",
      "WARNING:tensorflow:Inconsistent references when loading the checkpoint into this object graph. Either the Trackable object references in the Python program have changed in an incompatible way, or the checkpoint was generated in an incompatible program.\n",
      "\n",
      "Two checkpoint references resolved to different objects (<tensorflow.python.keras.layers.convolutional.Conv2D object at 0x000002EE7481D348> and <tensorflow.python.keras.layers.pooling.MaxPooling2D object at 0x000002EE74828048>).\n",
      "WARNING:tensorflow:Inconsistent references when loading the checkpoint into this object graph. Either the Trackable object references in the Python program have changed in an incompatible way, or the checkpoint was generated in an incompatible program.\n",
      "\n",
      "Two checkpoint references resolved to different objects (<tensorflow.python.keras.layers.convolutional.Conv2D object at 0x000002EE74828FC8> and <tensorflow.python.keras.layers.convolutional.Conv2D object at 0x000002EE7483A188>).\n",
      "WARNING:tensorflow:Inconsistent references when loading the checkpoint into this object graph. Either the Trackable object references in the Python program have changed in an incompatible way, or the checkpoint was generated in an incompatible program.\n",
      "\n",
      "Two checkpoint references resolved to different objects (<tensorflow.python.keras.layers.convolutional.Conv2D object at 0x000002EE7483A188> and <tensorflow.python.keras.layers.convolutional.Conv2D object at 0x000002EE749011C8>).\n",
      "WARNING:tensorflow:Inconsistent references when loading the checkpoint into this object graph. Either the Trackable object references in the Python program have changed in an incompatible way, or the checkpoint was generated in an incompatible program.\n",
      "\n",
      "Two checkpoint references resolved to different objects (<tensorflow.python.keras.layers.convolutional.Conv2D object at 0x000002EE749011C8> and <tensorflow.python.keras.layers.pooling.MaxPooling2D object at 0x000002EE74909FC8>).\n",
      "WARNING:tensorflow:Inconsistent references when loading the checkpoint into this object graph. Either the Trackable object references in the Python program have changed in an incompatible way, or the checkpoint was generated in an incompatible program.\n",
      "\n",
      "Two checkpoint references resolved to different objects (<tensorflow.python.keras.layers.convolutional.Conv2D object at 0x000002EE74908D88> and <tensorflow.python.keras.layers.core.Dropout object at 0x000002EE748D5748>).\n",
      "WARNING:tensorflow:Inconsistent references when loading the checkpoint into this object graph. Either the Trackable object references in the Python program have changed in an incompatible way, or the checkpoint was generated in an incompatible program.\n",
      "\n",
      "Two checkpoint references resolved to different objects (<tensorflow.python.keras.layers.convolutional.Conv2D object at 0x000002EE748D7608> and <tensorflow.python.keras.layers.pooling.AveragePooling2D object at 0x000002EE748E0148>).\n",
      "WARNING:tensorflow:Inconsistent references when loading the checkpoint into this object graph. Either the Trackable object references in the Python program have changed in an incompatible way, or the checkpoint was generated in an incompatible program.\n",
      "\n",
      "Two checkpoint references resolved to different objects (<tensorflow.python.keras.layers.convolutional.Conv2D object at 0x000002EE74820088> and <tensorflow.python.keras.layers.pooling.MaxPooling2D object at 0x000002EE74817248>).\n",
      "WARNING:tensorflow:Inconsistent references when loading the checkpoint into this object graph. Either the Trackable object references in the Python program have changed in an incompatible way, or the checkpoint was generated in an incompatible program.\n",
      "\n",
      "Two checkpoint references resolved to different objects (<tensorflow.python.keras.layers.convolutional.Conv2D object at 0x000002EE74828FC8> and <tensorflow.python.keras.layers.pooling.MaxPooling2D object at 0x000002EE74828048>).\n",
      "WARNING:tensorflow:Inconsistent references when loading the checkpoint into this object graph. Either the Trackable object references in the Python program have changed in an incompatible way, or the checkpoint was generated in an incompatible program.\n",
      "\n",
      "Two checkpoint references resolved to different objects (<tensorflow.python.keras.layers.convolutional.Conv2D object at 0x000002EE74908D88> and <tensorflow.python.keras.layers.pooling.MaxPooling2D object at 0x000002EE74909FC8>).\n",
      "WARNING:tensorflow:Inconsistent references when loading the checkpoint into this object graph. Either the Trackable object references in the Python program have changed in an incompatible way, or the checkpoint was generated in an incompatible program.\n",
      "\n",
      "Two checkpoint references resolved to different objects (<tensorflow.python.keras.layers.convolutional.Conv2D object at 0x000002EE748D7608> and <tensorflow.python.keras.layers.core.Dropout object at 0x000002EE748D5748>).\n",
      "WARNING:tensorflow:Inconsistent references when loading the checkpoint into this object graph. Either the Trackable object references in the Python program have changed in an incompatible way, or the checkpoint was generated in an incompatible program.\n",
      "\n",
      "Two checkpoint references resolved to different objects (<tensorflow.python.keras.layers.core.Flatten object at 0x000002EE748E0B88> and <tensorflow.python.keras.layers.pooling.AveragePooling2D object at 0x000002EE748E0148>).\n",
      "WARNING:tensorflow:Inconsistent references when loading the checkpoint into this object graph. Either the Trackable object references in the Python program have changed in an incompatible way, or the checkpoint was generated in an incompatible program.\n",
      "\n",
      "Two checkpoint references resolved to different objects (<tensorflow.python.keras.layers.core.Dropout object at 0x000002EE748E3488> and <tensorflow.python.keras.layers.core.Flatten object at 0x000002EE748E0B88>).\n",
      "WARNING:tensorflow:Inconsistent references when loading the checkpoint into this object graph. Either the Trackable object references in the Python program have changed in an incompatible way, or the checkpoint was generated in an incompatible program.\n",
      "\n",
      "Two checkpoint references resolved to different objects (<tensorflow.python.keras.layers.core.Dense object at 0x000002EE748E3FC8> and <tensorflow.python.keras.layers.core.Dropout object at 0x000002EE748E3488>).\n"
     ]
    }
   ],
   "source": [
    "# Initialize Detector & load pre-trained weight\n",
    "prototxt_path = \"./caffe_dnn_module/deploy.prototxt.txt\"\n",
    "weights_path = \"./caffe_dnn_module/res10_300x300_ssd_iter_140000.caffemodel\"\n",
    "\n",
    "detector = cv2.dnn.readNet(prototxt_path, weights_path)\n",
    "\n",
    "# Load pre-trained CNN model\n",
    "CNN = load_model(\"./checkpoint/AbridgedMobilenet\")"
   ],
   "metadata": {
    "collapsed": false,
    "pycharm": {
     "name": "#%%\n"
    }
   }
  },
  {
   "cell_type": "code",
   "execution_count": 3,
   "outputs": [],
   "source": [
    "# Load test image\n",
    "test_img = cv2.imread(\"./data/data2/with_mask/with_mask_734.jpg\")\n"
   ],
   "metadata": {
    "collapsed": false,
    "pycharm": {
     "name": "#%%\n"
    }
   }
  },
  {
   "cell_type": "code",
   "execution_count": 4,
   "outputs": [
    {
     "name": "stdout",
     "output_type": "stream",
     "text": [
      "0.89163685\n"
     ]
    }
   ],
   "source": [
    "# Convert image to blob in Caffe Framework\n",
    "blob = cv2.dnn.blobFromImage(test_img, 1.0, (300, 300),\n",
    "                             (104.0, 177.0, 123.0))\n",
    "(h, w) = test_img.shape[:2]\n",
    "\n",
    "# Face Detection\n",
    "detector.setInput(blob)\n",
    "detections = detector.forward()\n",
    "print(max(detections[0,0,:,2]))"
   ],
   "metadata": {
    "collapsed": false,
    "pycharm": {
     "name": "#%%\n"
    }
   }
  },
  {
   "cell_type": "code",
   "execution_count": 5,
   "outputs": [
    {
     "name": "stdout",
     "output_type": "stream",
     "text": [
      "0.89163685 465 557 1139 1294\n",
      "0.6782107 146 240 790 931\n",
      "0.3305762 2166 2235 2869 3012\n",
      "0.283053 2169 3121 2870 3871\n"
     ]
    }
   ],
   "source": [
    "# Threshold for detecting faces\n",
    "threshold = 0.2\n",
    "\n",
    "for i in range(0, detections.shape[2]):\n",
    "    # Confidence of bounding box\n",
    "    confidence = detections[0, 0, i, 2]\n",
    "\n",
    "    if confidence > threshold:\n",
    "        # Get minX, minY, maxX, maxY of bounding box\n",
    "        box = detections[0, 0, i, 3:7] * np.array([w, h, w, h])\n",
    "        (startX, startY, endX, endY) = box.astype(\"int\")\n",
    "        print(confidence, startX, startY, endX, endY)\n",
    "\n",
    "        text = \"{:2f}%\".format(confidence * 100)\n",
    "        y = startY - 10 if startY - 10 > 10 else startY + 10\n",
    "\n",
    "        # Draw Bounding Box\n",
    "        cv2.rectangle(test_img, (startX, startY), (endX, endY), (0, 255, 0), 2)\n",
    "\n",
    "        # Print Confidence\n",
    "        cv2.putText(test_img, text, (startX, y),\n",
    "                    cv2.FONT_HERSHEY_SIMPLEX, 0.5, (0, 255, 0), 1)\n",
    "\n",
    "cv2.imshow(\"result\", test_img)\n",
    "cv2.waitKey(0)\n",
    "cv2.destroyAllWindows()\n",
    "\n"
   ],
   "metadata": {
    "collapsed": false,
    "pycharm": {
     "name": "#%%\n"
    }
   }
  }
 ],
 "metadata": {
  "kernelspec": {
   "display_name": "Python 3",
   "language": "python",
   "name": "python3"
  },
  "language_info": {
   "codemirror_mode": {
    "name": "ipython",
    "version": 2
   },
   "file_extension": ".py",
   "mimetype": "text/x-python",
   "name": "python",
   "nbconvert_exporter": "python",
   "pygments_lexer": "ipython2",
   "version": "2.7.6"
  }
 },
 "nbformat": 4,
 "nbformat_minor": 0
}