{
 "nbformat": 4,
 "nbformat_minor": 0,
 "metadata": {
  "colab": {
   "name": "Mobilenet Fine Tuning",
   "provenance": [],
   "collapsed_sections": []
  },
  "kernelspec": {
   "name": "python3",
   "display_name": "Python 3"
  },
  "accelerator": "GPU"
 },
 "cells": [
  {
   "cell_type": "code",
   "metadata": {
    "colab": {
     "base_uri": "https://localhost:8080/"
    },
    "id": "iyrM-9E_suZE",
    "outputId": "b0477a28-6a2d-485a-a140-a53be3af36ca"
   },
   "source": [
    "# Load Dataset\n",
    "\n",
    "!git clone https://github.com/beotborry/DLDataset.git"
   ],
   "execution_count": null,
   "outputs": [
    {
     "output_type": "stream",
     "text": [
      "Cloning into 'DLDataset'...\n",
      "remote: Enumerating objects: 3721, done.\u001B[K\n",
      "remote: Counting objects: 100% (3721/3721), done.\u001B[K\n",
      "remote: Compressing objects: 100% (3721/3721), done.\u001B[K\n",
      "remote: Total 16262 (delta 0), reused 3720 (delta 0), pack-reused 12541\u001B[K\n",
      "Receiving objects: 100% (16262/16262), 2.69 GiB | 51.59 MiB/s, done.\n",
      "Resolving deltas: 100% (44/44), done.\n",
      "Checking out files: 100% (7554/7554), done.\n"
     ],
     "name": "stdout"
    }
   ]
  },
  {
   "cell_type": "code",
   "metadata": {
    "id": "k2_nClQ_sXI0"
   },
   "source": [
    "from tensorflow.keras.utils import to_categorical\n",
    "from tensorflow.keras.applications import MobileNetV2\n",
    "from tensorflow.keras.layers import Input, AveragePooling2D, Flatten, Dropout, Dense\n",
    "from tensorflow.keras.models import Model\n",
    "from tensorflow.keras.optimizers import Adam\n",
    "\n",
    "from sklearn.preprocessing import LabelBinarizer\n",
    "from sklearn.model_selection import train_test_split\n",
    "\n",
    "import numpy as np"
   ],
   "execution_count": null,
   "outputs": []
  },
  {
   "cell_type": "code",
   "metadata": {
    "id": "JY_49-i6s6jm"
   },
   "source": [
    "# Data Path\n",
    "with_mask_paths = [\"./DLDataset/with_mask/with_mask_\" + str(i) + \".jpg\" for i in range(1, 3725 + 1)]\n",
    "without_mask_paths = [\"./DLDataset/without_mask/without_mask_\" + str(i) + \".jpg\" for i in range(1, 3828 + 1)]"
   ],
   "execution_count": null,
   "outputs": []
  },
  {
   "cell_type": "code",
   "metadata": {
    "id": "u0zwcVfmtzWp"
   },
   "source": [
    "# utils.py Codes\n",
    "\n",
    "from tensorflow.keras.applications.mobilenet_v2 import preprocess_input\n",
    "from tensorflow.keras.preprocessing.image import load_img, img_to_array\n",
    "\n",
    "import matplotlib.pyplot as plt\n",
    "\n",
    "def load_data_with_label(path_arr, data_arr, label_arr, img_size, _label):\n",
    "    for path in path_arr:\n",
    "        try:\n",
    "            img = load_img(path, target_size = img_size)\n",
    "            img = img_to_array(img)\n",
    "            img = preprocess_input(img)\n",
    "            data_arr.append(img)\n",
    "            label_arr.append(_label)\n",
    "        except:\n",
    "            print(path)\n",
    "\n",
    "def training_log_plot(history):\n",
    "    accuracy = history.history['accuracy']\n",
    "    val_accuracy = history.history['val_accuracy']\n",
    "\n",
    "    loss = history.history['loss']\n",
    "    val_loss = history.history['val_loss']\n",
    "\n",
    "    plt.figure(figsize=(8,8))\n",
    "    plt.subplot(2, 1, 1)\n",
    "    plt.plot(accuracy, label = \"TRNG_ACC\")\n",
    "    plt.plot(val_accuracy, label = \"VAL_ACC\")\n",
    "\n",
    "    plt.ylabel(\"Accuracy\")\n",
    "    plt.title(\"Accuracy\")\n",
    "    plt.legend()\n",
    "\n",
    "    plt.subplot(2, 1, 2)\n",
    "    plt.plot(loss, label = \"TRNG_LOSS\")\n",
    "    plt.plot(val_loss, label = \"VAL_LOSS\")\n",
    "\n",
    "    plt.xlabel(\"Epoch\")\n",
    "    plt.ylabel(\"Cross Entropy\")\n",
    "    plt.title(\"Loss\")\n",
    "    plt.legend()\n",
    "    plt.savefig(\"./fig.png\")\n",
    "    plt.show()\n",
    "\n",
    "def export_model_summary(model):\n",
    "    with open(\"report.txt\", \"w\") as fh:\n",
    "        model.summary(print_fn=lambda x: fh.write(x + '\\n'))"
   ],
   "execution_count": null,
   "outputs": []
  },
  {
   "cell_type": "code",
   "metadata": {
    "colab": {
     "base_uri": "https://localhost:8080/"
    },
    "id": "J0wjDrGDtRD3",
    "outputId": "a52392a4-819d-47c8-ca81-f48aa16dd185"
   },
   "source": [
    "\n",
    "# Declare array for storing data & corresponding label\n",
    "data = []\n",
    "label = []\n",
    "\n",
    "# Load with_mask data\n",
    "load_data_with_label(path_arr=with_mask_paths,\n",
    "                     data_arr=data,\n",
    "                     label_arr=label,\n",
    "                     img_size=(224, 224, 3),\n",
    "                     _label = 1)\n",
    "\n",
    "# Load without_mask data\n",
    "load_data_with_label(path_arr=without_mask_paths,\n",
    "                     data_arr=data,\n",
    "                     label_arr=label,\n",
    "                     img_size=(224, 224, 3),\n",
    "                     _label = 0)\n",
    "\n",
    "print(\"Data Load Done!\")"
   ],
   "execution_count": null,
   "outputs": [
    {
     "output_type": "stream",
     "text": [
      "/usr/local/lib/python3.6/dist-packages/PIL/Image.py:932: UserWarning: Palette images with Transparency expressed in bytes should be converted to RGBA images\n",
      "  \"Palette images with Transparency expressed in bytes should be \"\n"
     ],
     "name": "stderr"
    },
    {
     "output_type": "stream",
     "text": [
      "Data Load Done!\n"
     ],
     "name": "stdout"
    }
   ]
  },
  {
   "cell_type": "code",
   "metadata": {
    "id": "5N0n4n0ytdGP"
   },
   "source": [
    "# Convert to numpy array\n",
    "data = np.array(data, dtype=\"float32\")\n",
    "label = np.array(label)\n",
    "\n",
    "# Label one-hot encoding\n",
    "_lb = LabelBinarizer()\n",
    "\n",
    "label = _lb.fit_transform(label)\n",
    "label = to_categorical(label)"
   ],
   "execution_count": null,
   "outputs": []
  },
  {
   "cell_type": "code",
   "metadata": {
    "id": "GdhYD7sztfg8"
   },
   "source": [
    "# Split data to train data and test data\n",
    "(train_X, test_X, train_Y, test_Y) = train_test_split(data, label,\n",
    "                                                      test_size=0.15,\n",
    "                                                      stratify=label,\n",
    "                                                      random_state=777,\n",
    "                                                      shuffle=True)"
   ],
   "execution_count": null,
   "outputs": []
  },
  {
   "cell_type": "code",
   "metadata": {
    "colab": {
     "base_uri": "https://localhost:8080/"
    },
    "id": "tC-BctrTthTl",
    "outputId": "cbd7c640-c777-4954-b394-42d2de824d7b"
   },
   "source": [
    "\n",
    "# Make model\n",
    "\n",
    "base_model = MobileNetV2(weights=\"imagenet\",\n",
    "                         include_top=False,\n",
    "                         input_tensor=Input(shape=(224,224,3)))\n",
    "\n",
    "main_model = base_model.output\n",
    "main_model = AveragePooling2D(pool_size=(7,7))(main_model)\n",
    "main_model = Flatten()(main_model)\n",
    "main_model = Dense(128, activation='relu')(main_model)\n",
    "main_model = Dropout(0.5)(main_model)\n",
    "main_model = Dense(2, activation=\"softmax\")(main_model)\n",
    "\n",
    "model = Model(inputs = base_model.input, outputs = main_model)"
   ],
   "execution_count": null,
   "outputs": [
    {
     "output_type": "stream",
     "text": [
      "WARNING:tensorflow:`input_shape` is undefined or non-square, or `rows` is not in [96, 128, 160, 192, 224]. Weights for input shape (224, 224) will be loaded as the default.\n",
      "Downloading data from https://storage.googleapis.com/tensorflow/keras-applications/mobilenet_v2/mobilenet_v2_weights_tf_dim_ordering_tf_kernels_1.0_224_no_top.h5\n",
      "9412608/9406464 [==============================] - 0s 0us/step\n"
     ],
     "name": "stdout"
    }
   ]
  },
  {
   "cell_type": "code",
   "metadata": {
    "id": "9UowQ77Itikz"
   },
   "source": [
    "# Declare epoch, batch size, optimizer\n",
    "epochs = 30\n",
    "batch_size = 100\n",
    "optimizer = Adam(learning_rate=1e-4, decay = 1e-4/epochs)"
   ],
   "execution_count": null,
   "outputs": []
  },
  {
   "cell_type": "code",
   "metadata": {
    "colab": {
     "base_uri": "https://localhost:8080/"
    },
    "id": "QcRmPpZdtj9a",
    "outputId": "fca7dc89-0cb9-4ea7-c61e-f7c2a22e1ea4"
   },
   "source": [
    "# Compile and training\n",
    "model.compile(loss = \"binary_crossentropy\", optimizer = optimizer, metrics=['accuracy'])\n",
    "\n",
    "history = model.fit(train_X, train_Y,\n",
    "                    batch_size=batch_size,\n",
    "                    validation_split=0.1,\n",
    "                    epochs = epochs)\n",
    "\n",
    "# Model save\n",
    "model.save(\"./checkpoint\")"
   ],
   "execution_count": null,
   "outputs": [
    {
     "output_type": "stream",
     "text": [
      "Epoch 1/30\n",
      "58/58 [==============================] - 47s 619ms/step - loss: 0.3941 - accuracy: 0.8237 - val_loss: 0.0449 - val_accuracy: 0.9813\n",
      "Epoch 2/30\n",
      "58/58 [==============================] - 35s 606ms/step - loss: 0.0170 - accuracy: 0.9969 - val_loss: 0.0442 - val_accuracy: 0.9829\n",
      "Epoch 3/30\n",
      "58/58 [==============================] - 36s 622ms/step - loss: 0.0056 - accuracy: 0.9993 - val_loss: 0.0459 - val_accuracy: 0.9844\n",
      "Epoch 4/30\n",
      "58/58 [==============================] - 36s 624ms/step - loss: 0.0024 - accuracy: 1.0000 - val_loss: 0.0272 - val_accuracy: 0.9907\n",
      "Epoch 5/30\n",
      "58/58 [==============================] - 36s 614ms/step - loss: 0.0016 - accuracy: 0.9997 - val_loss: 0.0186 - val_accuracy: 0.9922\n",
      "Epoch 6/30\n",
      "58/58 [==============================] - 36s 620ms/step - loss: 0.0011 - accuracy: 1.0000 - val_loss: 0.0234 - val_accuracy: 0.9907\n",
      "Epoch 7/30\n",
      "58/58 [==============================] - 36s 617ms/step - loss: 6.9961e-04 - accuracy: 1.0000 - val_loss: 0.0149 - val_accuracy: 0.9938\n",
      "Epoch 8/30\n",
      "58/58 [==============================] - 36s 617ms/step - loss: 4.1560e-04 - accuracy: 1.0000 - val_loss: 0.0119 - val_accuracy: 0.9938\n",
      "Epoch 9/30\n",
      "58/58 [==============================] - 36s 621ms/step - loss: 3.6406e-04 - accuracy: 1.0000 - val_loss: 0.0091 - val_accuracy: 0.9953\n",
      "Epoch 10/30\n",
      "58/58 [==============================] - 36s 618ms/step - loss: 4.0854e-04 - accuracy: 1.0000 - val_loss: 0.0077 - val_accuracy: 0.9969\n",
      "Epoch 11/30\n",
      "58/58 [==============================] - 36s 619ms/step - loss: 4.7471e-04 - accuracy: 1.0000 - val_loss: 0.0066 - val_accuracy: 0.9984\n",
      "Epoch 12/30\n",
      "58/58 [==============================] - 37s 634ms/step - loss: 2.4356e-04 - accuracy: 1.0000 - val_loss: 0.0066 - val_accuracy: 0.9984\n",
      "Epoch 13/30\n",
      "58/58 [==============================] - 36s 628ms/step - loss: 1.9192e-04 - accuracy: 1.0000 - val_loss: 0.0065 - val_accuracy: 0.9984\n",
      "Epoch 14/30\n",
      "58/58 [==============================] - 36s 629ms/step - loss: 1.9898e-04 - accuracy: 1.0000 - val_loss: 0.0065 - val_accuracy: 0.9984\n",
      "Epoch 15/30\n",
      "58/58 [==============================] - 36s 621ms/step - loss: 1.5466e-04 - accuracy: 1.0000 - val_loss: 0.0067 - val_accuracy: 0.9984\n",
      "Epoch 16/30\n",
      "58/58 [==============================] - 36s 616ms/step - loss: 1.5600e-04 - accuracy: 1.0000 - val_loss: 0.0067 - val_accuracy: 0.9984\n",
      "Epoch 17/30\n",
      "58/58 [==============================] - 36s 616ms/step - loss: 1.1403e-04 - accuracy: 1.0000 - val_loss: 0.0067 - val_accuracy: 0.9984\n",
      "Epoch 18/30\n",
      "58/58 [==============================] - 36s 619ms/step - loss: 9.9881e-05 - accuracy: 1.0000 - val_loss: 0.0068 - val_accuracy: 0.9984\n",
      "Epoch 19/30\n",
      "58/58 [==============================] - 36s 623ms/step - loss: 1.0336e-04 - accuracy: 1.0000 - val_loss: 0.0070 - val_accuracy: 0.9984\n",
      "Epoch 20/30\n",
      "58/58 [==============================] - 37s 636ms/step - loss: 7.6058e-05 - accuracy: 1.0000 - val_loss: 0.0071 - val_accuracy: 0.9984\n",
      "Epoch 21/30\n",
      "58/58 [==============================] - 37s 630ms/step - loss: 9.8887e-05 - accuracy: 1.0000 - val_loss: 0.0071 - val_accuracy: 0.9984\n",
      "Epoch 22/30\n",
      "58/58 [==============================] - 36s 627ms/step - loss: 6.4166e-05 - accuracy: 1.0000 - val_loss: 0.0072 - val_accuracy: 0.9984\n",
      "Epoch 23/30\n",
      "58/58 [==============================] - 36s 628ms/step - loss: 8.0203e-05 - accuracy: 1.0000 - val_loss: 0.0074 - val_accuracy: 0.9969\n",
      "Epoch 24/30\n",
      "58/58 [==============================] - 37s 630ms/step - loss: 9.0602e-05 - accuracy: 1.0000 - val_loss: 0.0076 - val_accuracy: 0.9984\n",
      "Epoch 25/30\n",
      "58/58 [==============================] - 36s 623ms/step - loss: 8.2286e-05 - accuracy: 1.0000 - val_loss: 0.0070 - val_accuracy: 0.9984\n",
      "Epoch 26/30\n",
      "58/58 [==============================] - 36s 624ms/step - loss: 9.5476e-05 - accuracy: 1.0000 - val_loss: 0.0072 - val_accuracy: 0.9984\n",
      "Epoch 27/30\n",
      "58/58 [==============================] - 36s 623ms/step - loss: 1.0211e-04 - accuracy: 1.0000 - val_loss: 0.0074 - val_accuracy: 0.9984\n",
      "Epoch 28/30\n",
      "58/58 [==============================] - 36s 614ms/step - loss: 5.2159e-05 - accuracy: 1.0000 - val_loss: 0.0074 - val_accuracy: 0.9984\n",
      "Epoch 29/30\n",
      "58/58 [==============================] - 36s 618ms/step - loss: 4.1372e-05 - accuracy: 1.0000 - val_loss: 0.0075 - val_accuracy: 0.9984\n",
      "Epoch 30/30\n",
      "58/58 [==============================] - 36s 620ms/step - loss: 5.6699e-05 - accuracy: 1.0000 - val_loss: 0.0076 - val_accuracy: 0.9984\n",
      "INFO:tensorflow:Assets written to: ./checkpoint/assets\n"
     ],
     "name": "stdout"
    }
   ]
  },
  {
   "cell_type": "code",
   "metadata": {
    "colab": {
     "base_uri": "https://localhost:8080/",
     "height": 547
    },
    "id": "QJxD2WshtlDL",
    "outputId": "db911330-a3e2-473f-9955-5668b150cf1e"
   },
   "source": [
    "# Draw Plot and Save\n",
    "training_log_plot(history)\n",
    "\n",
    "# Evaluate\n",
    "model.evaluate(test_X, test_Y)"
   ],
   "execution_count": null,
   "outputs": [
    {
     "output_type": "display_data",
     "data": {
      "image/png": "[encoded data removed]",
      "text/plain": [
       "<Figure size 576x576 with 2 Axes>"
      ]
     },
     "metadata": {
      "tags": [],
      "needs_background": "light"
     }
    },
    {
     "output_type": "stream",
     "text": [
      "36/36 [==============================] - 2s 41ms/step - loss: 0.0196 - accuracy: 0.9974\n"
     ],
     "name": "stdout"
    },
    {
     "output_type": "execute_result",
     "data": {
      "text/plain": [
       "[0.019625669345259666, 0.9973521828651428]"
      ]
     },
     "metadata": {
      "tags": []
     },
     "execution_count": 16
    }
   ]
  }
 ]
}