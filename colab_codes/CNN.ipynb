{
 "nbformat": 4,
 "nbformat_minor": 0,
 "metadata": {
  "colab": {
   "name": "CNN",
   "provenance": [],
   "collapsed_sections": []
  },
  "kernelspec": {
   "name": "python3",
   "display_name": "Python 3"
  },
  "accelerator": "GPU"
 },
 "cells": [
  {
   "cell_type": "code",
   "metadata": {
    "colab": {
     "base_uri": "https://localhost:8080/"
    },
    "id": "PdOrZU7QwJ8z",
    "outputId": "60cefdce-ad21-4785-aeb4-686bc132a21b"
   },
   "source": [
    "# Load Dataset\n",
    "!git clone https://github.com/beotborry/DLDataset.git"
   ],
   "execution_count": null,
   "outputs": [
    {
     "output_type": "stream",
     "text": [
      "Cloning into 'DLDataset'...\n",
      "remote: Enumerating objects: 3721, done.\u001B[K\n",
      "remote: Counting objects: 100% (3721/3721), done.\u001B[K\n",
      "remote: Compressing objects: 100% (3721/3721), done.\u001B[K\n",
      "remote: Total 16262 (delta 0), reused 3720 (delta 0), pack-reused 12541\u001B[K\n",
      "Receiving objects: 100% (16262/16262), 2.69 GiB | 23.15 MiB/s, done.\n",
      "Resolving deltas: 100% (44/44), done.\n",
      "Checking out files: 100% (7554/7554), done.\n"
     ],
     "name": "stdout"
    }
   ]
  },
  {
   "cell_type": "code",
   "metadata": {
    "id": "PIjc3y8jvwkc"
   },
   "source": [
    "from tensorflow.keras.models import Sequential\n",
    "from tensorflow.keras.layers import Conv2D, Input, BatchNormalization, MaxPooling2D,Flatten, Dense, Dropout\n",
    "from tensorflow.keras.regularizers import l2\n",
    "from tensorflow.keras.utils import to_categorical\n",
    "from tensorflow.keras.optimizers import Adam\n",
    "\n",
    "from sklearn.model_selection import train_test_split\n",
    "from sklearn.preprocessing import LabelBinarizer\n",
    "\n",
    "import numpy as np\n"
   ],
   "execution_count": null,
   "outputs": []
  },
  {
   "cell_type": "code",
   "metadata": {
    "id": "O1wkJoV4vz2q"
   },
   "source": [
    "\n",
    "# Data Path\n",
    "with_mask_paths = [\"./DLDataset/with_mask/with_mask_\" + str(i) + \".jpg\" for i in range(1, 3725 + 1)]\n",
    "without_mask_paths = [\"./DLDataset/without_mask/without_mask_\" + str(i) + \".jpg\" for i in range(1, 3828 + 1)]\n"
   ],
   "execution_count": null,
   "outputs": []
  },
  {
   "cell_type": "code",
   "metadata": {
    "id": "gz6yDBPMwJRj"
   },
   "source": [
    "# utils.py Codes\n",
    "\n",
    "from tensorflow.keras.applications.mobilenet_v2 import preprocess_input\n",
    "from tensorflow.keras.preprocessing.image import load_img, img_to_array\n",
    "\n",
    "import matplotlib.pyplot as plt\n",
    "\n",
    "def load_data_with_label(path_arr, data_arr, label_arr, img_size, _label):\n",
    "    for path in path_arr:\n",
    "        try:\n",
    "            img = load_img(path, target_size = img_size)\n",
    "            img = img_to_array(img)\n",
    "            img = preprocess_input(img)\n",
    "            data_arr.append(img)\n",
    "            label_arr.append(_label)\n",
    "        except:\n",
    "            print(path)\n",
    "\n",
    "def training_log_plot(history):\n",
    "    accuracy = history.history['accuracy']\n",
    "    val_accuracy = history.history['val_accuracy']\n",
    "\n",
    "    loss = history.history['loss']\n",
    "    val_loss = history.history['val_loss']\n",
    "\n",
    "    plt.figure(figsize=(8,8))\n",
    "    plt.subplot(2, 1, 1)\n",
    "    plt.plot(accuracy, label = \"TRNG_ACC\")\n",
    "    plt.plot(val_accuracy, label = \"VAL_ACC\")\n",
    "\n",
    "    plt.ylabel(\"Accuracy\")\n",
    "    plt.title(\"Accuracy\")\n",
    "    plt.legend()\n",
    "\n",
    "    plt.subplot(2, 1, 2)\n",
    "    plt.plot(loss, label = \"TRNG_LOSS\")\n",
    "    plt.plot(val_loss, label = \"VAL_LOSS\")\n",
    "\n",
    "    plt.xlabel(\"Epoch\")\n",
    "    plt.ylabel(\"Cross Entropy\")\n",
    "    plt.title(\"Loss\")\n",
    "    plt.legend()\n",
    "\n",
    "    plt.savefig(\"./fig.png\")\n",
    "    plt.show()\n",
    "\n",
    "def export_model_summary(model):\n",
    "    with open(\"report.txt\", \"w\") as fh:\n",
    "        model.summary(print_fn=lambda x: fh.write(x + '\\n'))"
   ],
   "execution_count": null,
   "outputs": []
  },
  {
   "cell_type": "code",
   "metadata": {
    "colab": {
     "base_uri": "https://localhost:8080/"
    },
    "id": "oebUz697v3Qy",
    "outputId": "e8594bbf-e607-41e6-d082-6af897b41226"
   },
   "source": [
    "\r\n",
    "# Declare array for storing data & corresponding label\r\n",
    "data = []\r\n",
    "label = []\r\n",
    "\r\n",
    "# Load with_mask data\r\n",
    "load_data_with_label(path_arr=with_mask_paths,\r\n",
    "                     data_arr=data,\r\n",
    "                     label_arr=label,\r\n",
    "                     img_size=(224, 224, 3),\r\n",
    "                     _label = 1)\r\n",
    "\r\n",
    "# Load without_mask data\r\n",
    "load_data_with_label(path_arr=without_mask_paths,\r\n",
    "                     data_arr=data,\r\n",
    "                     label_arr=label,\r\n",
    "                     img_size=(224, 224, 3),\r\n",
    "                     _label = 0)\r\n",
    "\r\n",
    "print(\"Data Load Done!\")\r\n"
   ],
   "execution_count": null,
   "outputs": [
    {
     "output_type": "stream",
     "text": [
      "/usr/local/lib/python3.6/dist-packages/PIL/Image.py:932: UserWarning: Palette images with Transparency expressed in bytes should be converted to RGBA images\n",
      "  \"Palette images with Transparency expressed in bytes should be \"\n"
     ],
     "name": "stderr"
    },
    {
     "output_type": "stream",
     "text": [
      "Data Load Done!\n"
     ],
     "name": "stdout"
    }
   ]
  },
  {
   "cell_type": "code",
   "metadata": {
    "id": "fDgleleev-m_"
   },
   "source": [
    "\r\n",
    "# Convert to numpy array\r\n",
    "data = np.array(data, dtype=\"float32\")\r\n",
    "label = np.array(label)\r\n",
    "\r\n",
    "# Label one-hot encoding\r\n",
    "_lb = LabelBinarizer()\r\n",
    "\r\n",
    "label = _lb.fit_transform(label)\r\n",
    "label = to_categorical(label)\r\n"
   ],
   "execution_count": null,
   "outputs": []
  },
  {
   "cell_type": "code",
   "metadata": {
    "id": "uuYUc3iDv_0K"
   },
   "source": [
    "\r\n",
    "# Split data to train data and test data\r\n",
    "(train_X, test_X, train_Y, test_Y) = train_test_split(data, label,\r\n",
    "                                                      test_size=0.15,\r\n",
    "                                                      stratify=label,\r\n",
    "                                                      random_state=777,\r\n",
    "                                                      shuffle=True)\r\n",
    "\r\n"
   ],
   "execution_count": null,
   "outputs": []
  },
  {
   "cell_type": "code",
   "metadata": {
    "id": "f9H8SdQdwDPX"
   },
   "source": [
    "\r\n",
    "# Make CNN Model\r\n",
    "CNN = Sequential([\r\n",
    "    Input(shape=(224, 224, 3)),\r\n",
    "    BatchNormalization(),\r\n",
    "    Conv2D(32, (3, 3), padding='SAME', activation='relu',\r\n",
    "           kernel_regularizer=l2(5e-4)),\r\n",
    "    Conv2D(32, (3, 3), padding='SAME', activation='relu',\r\n",
    "           kernel_regularizer=l2(5e-4)),\r\n",
    "    MaxPooling2D((2,2)),\r\n",
    "\r\n",
    "    Conv2D(64, (3,3), padding='SAME', activation='relu',\r\n",
    "           kernel_regularizer=l2(5e-4)),\r\n",
    "    Conv2D(64, (3,3), padding='SAME', activation='relu',\r\n",
    "           kernel_regularizer=l2(5e-4)),\r\n",
    "    MaxPooling2D((2,2)),\r\n",
    "\r\n",
    "    Conv2D(128, (3,3), padding='SAME', activation='relu',\r\n",
    "           kernel_regularizer=l2(5e-4)),\r\n",
    "    Conv2D(128, (3,3), padding='SAME', activation='relu',\r\n",
    "           kernel_regularizer=l2(5e-4)),\r\n",
    "    Conv2D(128, (3,3), padding='SAME', activation='relu',\r\n",
    "           kernel_regularizer=l2(5e-4)),\r\n",
    "    MaxPooling2D((2,2)),\r\n",
    "\r\n",
    "    Flatten(),\r\n",
    "    Dense(256, activation='relu'),\r\n",
    "    Dropout(0.5),\r\n",
    "    Dense(128, activation='relu'),\r\n",
    "    Dense(2, activation='softmax')\r\n",
    "\r\n",
    "])\r\n"
   ],
   "execution_count": null,
   "outputs": []
  },
  {
   "cell_type": "code",
   "metadata": {
    "id": "rn0OlJi7wEhz"
   },
   "source": [
    "\r\n",
    "\r\n",
    "# Declare epoch, batch size, optimizer\r\n",
    "epochs = 30\r\n",
    "batch_size = 100\r\n",
    "optimizer = Adam(learning_rate=1e-4, decay = 1e-4/epochs)\r\n",
    "\r\n",
    "\r\n"
   ],
   "execution_count": null,
   "outputs": []
  },
  {
   "cell_type": "code",
   "metadata": {
    "colab": {
     "base_uri": "https://localhost:8080/"
    },
    "id": "m9Z3wPkYwGBQ",
    "outputId": "b3bacd94-3d37-4608-cc7c-96c31cce8cd6"
   },
   "source": [
    "\r\n",
    "\r\n",
    "# Compile and training\r\n",
    "CNN.compile(loss = \"binary_crossentropy\", optimizer = optimizer, metrics=['accuracy'])\r\n",
    "\r\n",
    "history = CNN.fit(train_X, train_Y,\r\n",
    "                    batch_size=batch_size,\r\n",
    "                    validation_split=0.1,\r\n",
    "                    epochs = epochs)\r\n",
    "\r\n",
    "# Model save\r\n",
    "CNN.save(\"./checkpoint\")\r\n"
   ],
   "execution_count": null,
   "outputs": [
    {
     "output_type": "stream",
     "text": [
      "Epoch 1/30\n",
      "58/58 [==============================] - 64s 885ms/step - loss: 0.7703 - accuracy: 0.6989 - val_loss: 0.5155 - val_accuracy: 0.8801\n",
      "Epoch 2/30\n",
      "58/58 [==============================] - 46s 795ms/step - loss: 0.5028 - accuracy: 0.8847 - val_loss: 0.4485 - val_accuracy: 0.9034\n",
      "Epoch 3/30\n",
      "58/58 [==============================] - 46s 799ms/step - loss: 0.4608 - accuracy: 0.8952 - val_loss: 0.4057 - val_accuracy: 0.9065\n",
      "Epoch 4/30\n",
      "58/58 [==============================] - 46s 799ms/step - loss: 0.4095 - accuracy: 0.9067 - val_loss: 0.3572 - val_accuracy: 0.9283\n",
      "Epoch 5/30\n",
      "58/58 [==============================] - 46s 802ms/step - loss: 0.3822 - accuracy: 0.9153 - val_loss: 0.3552 - val_accuracy: 0.9159\n",
      "Epoch 6/30\n",
      "58/58 [==============================] - 46s 802ms/step - loss: 0.3638 - accuracy: 0.9253 - val_loss: 0.3361 - val_accuracy: 0.9252\n",
      "Epoch 7/30\n",
      "58/58 [==============================] - 46s 799ms/step - loss: 0.3227 - accuracy: 0.9416 - val_loss: 0.3264 - val_accuracy: 0.9330\n",
      "Epoch 8/30\n",
      "58/58 [==============================] - 46s 801ms/step - loss: 0.3141 - accuracy: 0.9380 - val_loss: 0.2995 - val_accuracy: 0.9455\n",
      "Epoch 9/30\n",
      "58/58 [==============================] - 46s 802ms/step - loss: 0.2952 - accuracy: 0.9487 - val_loss: 0.2901 - val_accuracy: 0.9486\n",
      "Epoch 10/30\n",
      "58/58 [==============================] - 47s 802ms/step - loss: 0.2731 - accuracy: 0.9618 - val_loss: 0.2926 - val_accuracy: 0.9486\n",
      "Epoch 11/30\n",
      "58/58 [==============================] - 47s 803ms/step - loss: 0.2537 - accuracy: 0.9701 - val_loss: 0.2921 - val_accuracy: 0.9486\n",
      "Epoch 12/30\n",
      "58/58 [==============================] - 47s 802ms/step - loss: 0.2590 - accuracy: 0.9607 - val_loss: 0.2800 - val_accuracy: 0.9502\n",
      "Epoch 13/30\n",
      "58/58 [==============================] - 47s 804ms/step - loss: 0.2381 - accuracy: 0.9691 - val_loss: 0.2820 - val_accuracy: 0.9564\n",
      "Epoch 14/30\n",
      "58/58 [==============================] - 46s 802ms/step - loss: 0.2326 - accuracy: 0.9722 - val_loss: 0.2985 - val_accuracy: 0.9579\n",
      "Epoch 15/30\n",
      "58/58 [==============================] - 46s 801ms/step - loss: 0.2180 - accuracy: 0.9790 - val_loss: 0.2992 - val_accuracy: 0.9564\n",
      "Epoch 16/30\n",
      "58/58 [==============================] - 46s 801ms/step - loss: 0.1976 - accuracy: 0.9845 - val_loss: 0.3597 - val_accuracy: 0.9486\n",
      "Epoch 17/30\n",
      "58/58 [==============================] - 46s 800ms/step - loss: 0.1918 - accuracy: 0.9866 - val_loss: 0.2819 - val_accuracy: 0.9595\n",
      "Epoch 18/30\n",
      "58/58 [==============================] - 46s 802ms/step - loss: 0.1872 - accuracy: 0.9893 - val_loss: 0.3324 - val_accuracy: 0.9533\n",
      "Epoch 19/30\n",
      "58/58 [==============================] - 46s 801ms/step - loss: 0.1781 - accuracy: 0.9919 - val_loss: 0.3003 - val_accuracy: 0.9611\n",
      "Epoch 20/30\n",
      "58/58 [==============================] - 46s 802ms/step - loss: 0.1745 - accuracy: 0.9914 - val_loss: 0.3481 - val_accuracy: 0.9548\n",
      "Epoch 21/30\n",
      "58/58 [==============================] - 46s 801ms/step - loss: 0.1687 - accuracy: 0.9934 - val_loss: 0.3323 - val_accuracy: 0.9595\n",
      "Epoch 22/30\n",
      "58/58 [==============================] - 47s 802ms/step - loss: 0.1680 - accuracy: 0.9923 - val_loss: 0.2866 - val_accuracy: 0.9642\n",
      "Epoch 23/30\n",
      "58/58 [==============================] - 46s 800ms/step - loss: 0.1598 - accuracy: 0.9959 - val_loss: 0.3194 - val_accuracy: 0.9548\n",
      "Epoch 24/30\n",
      "58/58 [==============================] - 46s 800ms/step - loss: 0.1632 - accuracy: 0.9934 - val_loss: 0.3169 - val_accuracy: 0.9595\n",
      "Epoch 25/30\n",
      "58/58 [==============================] - 46s 799ms/step - loss: 0.1580 - accuracy: 0.9949 - val_loss: 0.3570 - val_accuracy: 0.9579\n",
      "Epoch 26/30\n",
      "58/58 [==============================] - 46s 800ms/step - loss: 0.1575 - accuracy: 0.9951 - val_loss: 0.3573 - val_accuracy: 0.9611\n",
      "Epoch 27/30\n",
      "58/58 [==============================] - 46s 801ms/step - loss: 0.1512 - accuracy: 0.9968 - val_loss: 0.3123 - val_accuracy: 0.9611\n",
      "Epoch 28/30\n",
      "58/58 [==============================] - 46s 801ms/step - loss: 0.1527 - accuracy: 0.9945 - val_loss: 0.3286 - val_accuracy: 0.9533\n",
      "Epoch 29/30\n",
      "58/58 [==============================] - 46s 800ms/step - loss: 0.1553 - accuracy: 0.9939 - val_loss: 0.3251 - val_accuracy: 0.9595\n",
      "Epoch 30/30\n",
      "58/58 [==============================] - 46s 801ms/step - loss: 0.1415 - accuracy: 0.9988 - val_loss: 0.3574 - val_accuracy: 0.9657\n",
      "INFO:tensorflow:Assets written to: ./checkpoint/assets\n"
     ],
     "name": "stdout"
    }
   ]
  },
  {
   "cell_type": "code",
   "metadata": {
    "colab": {
     "base_uri": "https://localhost:8080/",
     "height": 549
    },
    "id": "SOazyKSPwHIc",
    "outputId": "5aa5a5d7-6439-4ff8-a98e-afabbb381444"
   },
   "source": [
    "\r\n",
    "# Draw Plot and Save\r\n",
    "training_log_plot(history)\r\n",
    "\r\n",
    "# Evaluate\r\n",
    "CNN.evaluate(test_X, test_Y)\r\n",
    "\r\n",
    "\r\n"
   ],
   "execution_count": null,
   "outputs": [
    {
     "output_type": "display_data",
     "data": {
      "image/png": "[encoded data removed]",
      "text/plain": [
       "<Figure size 576x576 with 2 Axes>"
      ]
     },
     "metadata": {
      "tags": [],
      "needs_background": "light"
     }
    },
    {
     "output_type": "stream",
     "text": [
      "36/36 [==============================] - 4s 86ms/step - loss: 0.3010 - accuracy: 0.9682\n"
     ],
     "name": "stdout"
    },
    {
     "output_type": "execute_result",
     "data": {
      "text/plain": [
       "[0.30102235078811646, 0.9682259559631348]"
      ]
     },
     "metadata": {
      "tags": []
     },
     "execution_count": 12
    }
   ]
  }
 ]
}